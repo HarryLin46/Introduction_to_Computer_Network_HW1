{
 "cells": [
  {
   "cell_type": "code",
   "execution_count": 1,
   "id": "0f094961",
   "metadata": {},
   "outputs": [
    {
     "name": "stdout",
     "output_type": "stream",
     "text": [
      "The Server is running..\n",
      "after accept\n",
      "It's a request\n",
      "1 + 1\n",
      "Y\n",
      "2 - 4\n",
      "Y\n",
      "3 * 5\n",
      "Y\n",
      "4 / 2\n",
      "N\n"
     ]
    },
    {
     "ename": "ConnectionResetError",
     "evalue": "[WinError 10054] 遠端主機已強制關閉一個現存的連線。",
     "output_type": "error",
     "traceback": [
      "\u001b[1;31m---------------------------------------------------------------------------\u001b[0m",
      "\u001b[1;31mConnectionResetError\u001b[0m                      Traceback (most recent call last)",
      "\u001b[1;32m~\\AppData\\Local\\Temp/ipykernel_15332/3392774242.py\u001b[0m in \u001b[0;36m<module>\u001b[1;34m\u001b[0m\n\u001b[0;32m     40\u001b[0m \u001b[1;33m\u001b[0m\u001b[0m\n\u001b[0;32m     41\u001b[0m                 \u001b[1;32mwhile\u001b[0m \u001b[1;32mTrue\u001b[0m\u001b[1;33m:\u001b[0m\u001b[1;33m\u001b[0m\u001b[1;33m\u001b[0m\u001b[0m\n\u001b[1;32m---> 42\u001b[1;33m                     \u001b[0mClient\u001b[0m\u001b[1;33m.\u001b[0m\u001b[0msend\u001b[0m\u001b[1;33m(\u001b[0m\u001b[1;34mb\"Please input a question for calculation\"\u001b[0m\u001b[1;33m)\u001b[0m\u001b[1;33m\u001b[0m\u001b[1;33m\u001b[0m\u001b[0m\n\u001b[0m\u001b[0;32m     43\u001b[0m                     \u001b[1;31m# Recieve the data from the client, and send the answer back to the client\u001b[0m\u001b[1;33m\u001b[0m\u001b[1;33m\u001b[0m\u001b[0m\n\u001b[0;32m     44\u001b[0m                     \u001b[1;31m# Ask if the client want to terminate the process\u001b[0m\u001b[1;33m\u001b[0m\u001b[1;33m\u001b[0m\u001b[0m\n",
      "\u001b[1;31mConnectionResetError\u001b[0m: [WinError 10054] 遠端主機已強制關閉一個現存的連線。"
     ]
    }
   ],
   "source": [
    "import socket\n",
    "from datetime import datetime\n",
    "\n",
    "with open('./server_log.txt', 'w') as logFile:\n",
    "    # Specify the IP address and port number\n",
    "    # (use \"127.0.0.1\" for localhost on local machine)\n",
    "    # Create a socket and bind the socket to the address\n",
    "    # TODO start\n",
    "    HOST, PORT = \"127.0.0.1\", 2025\n",
    "    #create new socket\n",
    "    s = socket.socket(socket.AF_INET, socket.SOCK_STREAM)\n",
    "    \n",
    "    #bind the socket to the address\n",
    "    s.bind((HOST, PORT))\n",
    "    # TODO end\n",
    "\n",
    "    while True:\n",
    "        # Listen to any request\n",
    "        # TODO start\n",
    "        s.listen(1)\n",
    "        # TODO end\n",
    "\n",
    "        now = datetime.now()\n",
    "        print(\"The Server is running..\")\n",
    "        logFile.write(now.strftime(\"%H:%M:%S \") + \"The Server is running..\\n\")\n",
    "        logFile.flush()\n",
    "\n",
    "        while True:\n",
    "            try:\n",
    "                # Accept a new request\n",
    "                # TODO start\n",
    "                Client, Addr = s.accept()\n",
    "                print('after accept')\n",
    "                message = Client.recv(1024).decode()\n",
    "                print(message)\n",
    "                \n",
    "                if message == \"N\":\n",
    "                    break\n",
    "                # TODO end\n",
    "\n",
    "                while True:\n",
    "                    Client.send(b\"Please input a question for calculation\")\n",
    "                    # Recieve the data from the client, and send the answer back to the client\n",
    "                    # Ask if the client want to terminate the process\n",
    "                    # Terminate the process or continue\n",
    "                    # TODO start\n",
    "                    message = Client.recv(1024).decode()\n",
    "                    formula = message\n",
    "                    \n",
    "                    #do the calculation\n",
    "                    print(formula)\n",
    "                    result = \"helllo\"\n",
    "                    \n",
    "                    #send back the result\n",
    "                    Client.send(result.encode())\n",
    "                    \n",
    "                    #Ask if the client want to terminate the process\n",
    "                    Client.send(b\"Do you wish to continue? (Y/N)\")\n",
    "                    # TODO end\n",
    "                    \n",
    "            except ValueError:\n",
    "                print(\"unlegal input!\")\n",
    "                continue\n",
    "        break\n",
    "    logFile.close()\n",
    "    # Close the socket\n",
    "    # TODO start\n",
    "    print('socket close')\n",
    "    Client.close()\n",
    "    # TODO end\n"
   ]
  },
  {
   "cell_type": "code",
   "execution_count": null,
   "id": "484dc634",
   "metadata": {},
   "outputs": [],
   "source": []
  },
  {
   "cell_type": "code",
   "execution_count": null,
   "id": "aeaa5c99",
   "metadata": {},
   "outputs": [],
   "source": []
  }
 ],
 "metadata": {
  "kernelspec": {
   "display_name": "Python 3 (ipykernel)",
   "language": "python",
   "name": "python3"
  },
  "language_info": {
   "codemirror_mode": {
    "name": "ipython",
    "version": 3
   },
   "file_extension": ".py",
   "mimetype": "text/x-python",
   "name": "python",
   "nbconvert_exporter": "python",
   "pygments_lexer": "ipython3",
   "version": "3.9.7"
  }
 },
 "nbformat": 4,
 "nbformat_minor": 5
}
