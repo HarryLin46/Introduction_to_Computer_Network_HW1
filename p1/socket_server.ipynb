{
 "cells": [
  {
   "cell_type": "code",
   "execution_count": null,
   "id": "0f094961",
   "metadata": {},
   "outputs": [],
   "source": [
    "import socket\n",
    "from datetime import datetime\n",
    "\n",
    "with open('./server_log.txt', 'w') as logFile:\n",
    "    # Specify the IP address and port number\n",
    "    # (use \"127.0.0.1\" for localhost on local machine)\n",
    "    # Create a socket and bind the socket to the address\n",
    "    # TODO start\n",
    "    HOST, PORT =\n",
    "    # TODO end\n",
    "\n",
    "    while True:\n",
    "        # Listen to any request\n",
    "        # TODO start\n",
    "        # TODO end\n",
    "\n",
    "        now = datetime.now()\n",
    "        print(\"The Server is running..\")\n",
    "        logFile.write(now.strftime(\"%H:%M:%S \") + \"The Server is running..\\n\")\n",
    "        logFile.flush()\n",
    "\n",
    "        while True:\n",
    "            try:\n",
    "                # Accept a new request\n",
    "                # TODO start\n",
    "                Client, Addr =\n",
    "                # TODO end\n",
    "\n",
    "                while True:\n",
    "                    Client.send(b\"Please input a question for calculation\")\n",
    "                    # Recieve the data from the client, and send the answer back to the client\n",
    "                    # Ask if the client want to terminate the process\n",
    "                    # Terminate the process or continue\n",
    "                    # TODO start\n",
    "                    # TODO end\n",
    "            except ValueError:\n",
    "                continue\n",
    "        break\n",
    "    logFile.close()\n",
    "    # Close the socket\n",
    "    # TODO start\n",
    "    # TODO end\n"
   ]
  }
 ],
 "metadata": {
  "kernelspec": {
   "display_name": "Python 3 (ipykernel)",
   "language": "python",
   "name": "python3"
  },
  "language_info": {
   "codemirror_mode": {
    "name": "ipython",
    "version": 3
   },
   "file_extension": ".py",
   "mimetype": "text/x-python",
   "name": "python",
   "nbconvert_exporter": "python",
   "pygments_lexer": "ipython3",
   "version": "3.9.7"
  }
 },
 "nbformat": 4,
 "nbformat_minor": 5
}
