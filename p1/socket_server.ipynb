{
 "cells": [
  {
   "cell_type": "code",
   "execution_count": 1,
   "id": "0f094961",
   "metadata": {},
   "outputs": [
    {
     "name": "stdout",
     "output_type": "stream",
     "text": [
      "The Server is running..\n",
      "after accept\n",
      "It's a request\n",
      "formula: 1 + 1\n",
      "formula: 1 + 1\n",
      "Y\n",
      "formula: 2 - 4\n",
      "formula: 2 - 4\n",
      "Y\n",
      "formula: 3 * 5\n",
      "formula: 3 * 5\n",
      "Y\n",
      "formula: 4 / 2\n",
      "formula: 4 / 2\n",
      "N\n",
      "socket close\n"
     ]
    }
   ],
   "source": [
    "import socket\n",
    "from datetime import datetime\n",
    "import time\n",
    "\n",
    "with open('./server_log.txt', 'w') as logFile:\n",
    "    # Specify the IP address and port number\n",
    "    # (use \"127.0.0.1\" for localhost on local machine)\n",
    "    # Create a socket and bind the socket to the address\n",
    "    # TODO start\n",
    "    HOST, PORT = \"127.0.0.1\", 2025\n",
    "    #create new socket\n",
    "    s = socket.socket(socket.AF_INET, socket.SOCK_STREAM)\n",
    "    \n",
    "    #bind the socket to the address\n",
    "    s.bind((HOST, PORT))\n",
    "    # TODO end\n",
    "\n",
    "    while True:\n",
    "        # Listen to any request\n",
    "        # TODO start\n",
    "        s.listen(1)\n",
    "        # TODO end\n",
    "\n",
    "        now = datetime.now()\n",
    "        print(\"The Server is running..\")\n",
    "        logFile.write(now.strftime(\"%H:%M:%S \") + \"The Server is running..\\n\")\n",
    "        logFile.flush()\n",
    "        \n",
    "        Client, Addr = s.accept()\n",
    "        print('after accept')\n",
    "        while True:\n",
    "            try:\n",
    "                # Accept a new request\n",
    "                # TODO start\n",
    "                message = Client.recv(1024).decode()\n",
    "                print(message)\n",
    "                \n",
    "                if message == \"N\":\n",
    "                    break\n",
    "                # TODO end\n",
    "\n",
    "                while True:\n",
    "                    Client.send(b\"Please input a question for calculation\")\n",
    "                    # Recieve the data from the client, and send the answer back to the client\n",
    "                    # Ask if the client want to terminate the process\n",
    "                    # Terminate the process or continue\n",
    "                    # TODO start\n",
    "                    time.sleep(3)\n",
    "                    formula = Client.recv(1024).decode()\n",
    "                    print(\"formula:\",formula)\n",
    "                    \n",
    "                    #do the calculation\n",
    "                    print(\"formula:\",formula)\n",
    "                    split_formula = formula.split()\n",
    "                    \n",
    "                    #calculation\n",
    "                    operator = split_formula[1]\n",
    "                    try:\n",
    "                        A = float(split_formula[0])\n",
    "                        B = float(split_formula[2]) #then we will calculate F(A,B)\n",
    "                        \n",
    "                    except ValueError: #then A,B are vectors stored as a list\n",
    "                        A = a.split()[0]\n",
    "                        B = a.split()[2]\n",
    "                        \n",
    "                        A = A.split(',')\n",
    "                        A[0] = A[0].lstrip('(')\n",
    "                        A[-1] = A[-1].rstrip(')')\n",
    "                        for index,ele in enumerate(A):\n",
    "                            A[index] = float(ele)\n",
    "                            \n",
    "                        B = B.split(',')\n",
    "                        B[0] = B[0].lstrip('(')\n",
    "                        B[-1] = B[-1].rstrip(')')\n",
    "                        for index,ele in enumerate(B):\n",
    "                            B[index] = float(ele)\n",
    "                            \n",
    "                    if operator == \"+\":\n",
    "                        result = A + B\n",
    "                        \n",
    "                    elif operator == \"-\":\n",
    "                        result = A - B\n",
    "                        \n",
    "                    elif operator == \"*\":\n",
    "                        result = A * B\n",
    "                    \n",
    "                    elif operator == \"/\":\n",
    "                        result = A / B\n",
    "                    \n",
    "                    elif operator == \"^\": #power\n",
    "                        result = 1\n",
    "                        for i in range(B):\n",
    "                            result *= A\n",
    "                            \n",
    "                    elif operator == \"div\": #div, get Quotient\n",
    "                        result = 0\n",
    "                        while A >= B:\n",
    "                            result += 1\n",
    "                            A -= B\n",
    "                            \n",
    "                    elif operator == \"mod\": #mod, get remainder\n",
    "                        result = A\n",
    "                        while result >= B:\n",
    "                            result -= B\n",
    "                            \n",
    "                    elif operator == \"dot\": #inner product\n",
    "                        result = 0\n",
    "                        for i in range(len(A)):\n",
    "                            result += A[i]*B[i]\n",
    "                    \n",
    "                    elif operator == \"dis\": #get euclidian distance\n",
    "                        result = 0\n",
    "                        for i in range(len(A)):\n",
    "                            result += (A[i]-B[i])**2\n",
    "                        result **= 0.5\n",
    "                    \n",
    "                    #send back the result\n",
    "                    Client.send(str(result).encode())\n",
    "                    \n",
    "                    #Ask if the client want to terminate the process\n",
    "                    Client.send(b\"Do you wish to continue? (Y/N)\")\n",
    "                    break\n",
    "                    # TODO end\n",
    "                    \n",
    "            except ValueError:\n",
    "                print(\"unlegal input!\")\n",
    "                continue\n",
    "        break\n",
    "    logFile.close()\n",
    "    # Close the socket\n",
    "    # TODO start\n",
    "    print('socket close')\n",
    "    Client.close()\n",
    "    # TODO end\n"
   ]
  },
  {
   "cell_type": "code",
   "execution_count": 3,
   "id": "484dc634",
   "metadata": {},
   "outputs": [
    {
     "data": {
      "text/plain": [
       "'X'"
      ]
     },
     "execution_count": 3,
     "metadata": {},
     "output_type": "execute_result"
    }
   ],
   "source": [
    "a = '2 + X'\n",
    "a.split()[2]"
   ]
  },
  {
   "cell_type": "code",
   "execution_count": 7,
   "id": "aeaa5c99",
   "metadata": {},
   "outputs": [
    {
     "data": {
      "text/plain": [
       "0.3333333333333333"
      ]
     },
     "execution_count": 7,
     "metadata": {},
     "output_type": "execute_result"
    }
   ],
   "source": [
    "1.0/3.0"
   ]
  },
  {
   "cell_type": "code",
   "execution_count": 8,
   "id": "25995dc4",
   "metadata": {},
   "outputs": [
    {
     "data": {
      "text/plain": [
       "16"
      ]
     },
     "execution_count": 8,
     "metadata": {},
     "output_type": "execute_result"
    }
   ],
   "source": [
    "2**4"
   ]
  },
  {
   "cell_type": "code",
   "execution_count": 9,
   "id": "a4509b61",
   "metadata": {},
   "outputs": [
    {
     "data": {
      "text/plain": [
       "6"
      ]
     },
     "execution_count": 9,
     "metadata": {},
     "output_type": "execute_result"
    }
   ],
   "source": [
    "2^4"
   ]
  },
  {
   "cell_type": "code",
   "execution_count": 5,
   "id": "fc01a20f",
   "metadata": {
    "scrolled": false
   },
   "outputs": [
    {
     "ename": "ValueError",
     "evalue": "could not convert string to float: ''",
     "output_type": "error",
     "traceback": [
      "\u001b[1;31m---------------------------------------------------------------------------\u001b[0m",
      "\u001b[1;31mValueError\u001b[0m                                Traceback (most recent call last)",
      "\u001b[1;32m~\\AppData\\Local\\Temp/ipykernel_11080/1852061565.py\u001b[0m in \u001b[0;36m<module>\u001b[1;34m\u001b[0m\n\u001b[0;32m     13\u001b[0m \u001b[0mB\u001b[0m\u001b[1;33m[\u001b[0m\u001b[1;33m-\u001b[0m\u001b[1;36m1\u001b[0m\u001b[1;33m]\u001b[0m \u001b[1;33m=\u001b[0m \u001b[0mB\u001b[0m\u001b[1;33m[\u001b[0m\u001b[1;33m-\u001b[0m\u001b[1;36m1\u001b[0m\u001b[1;33m]\u001b[0m\u001b[1;33m.\u001b[0m\u001b[0mrstrip\u001b[0m\u001b[1;33m(\u001b[0m\u001b[1;34m')'\u001b[0m\u001b[1;33m)\u001b[0m\u001b[1;33m\u001b[0m\u001b[1;33m\u001b[0m\u001b[0m\n\u001b[0;32m     14\u001b[0m \u001b[1;32mfor\u001b[0m \u001b[0mindex\u001b[0m\u001b[1;33m,\u001b[0m\u001b[0mele\u001b[0m \u001b[1;32min\u001b[0m \u001b[0menumerate\u001b[0m\u001b[1;33m(\u001b[0m\u001b[0mB\u001b[0m\u001b[1;33m)\u001b[0m\u001b[1;33m:\u001b[0m\u001b[1;33m\u001b[0m\u001b[1;33m\u001b[0m\u001b[0m\n\u001b[1;32m---> 15\u001b[1;33m     \u001b[0mB\u001b[0m\u001b[1;33m[\u001b[0m\u001b[0mindex\u001b[0m\u001b[1;33m]\u001b[0m \u001b[1;33m=\u001b[0m \u001b[0mfloat\u001b[0m\u001b[1;33m(\u001b[0m\u001b[0mele\u001b[0m\u001b[1;33m)\u001b[0m\u001b[1;33m\u001b[0m\u001b[1;33m\u001b[0m\u001b[0m\n\u001b[0m\u001b[0;32m     16\u001b[0m \u001b[0mB\u001b[0m\u001b[1;33m\u001b[0m\u001b[1;33m\u001b[0m\u001b[0m\n",
      "\u001b[1;31mValueError\u001b[0m: could not convert string to float: ''"
     ]
    }
   ],
   "source": [
    "a = \"(1,2,3) dot (2,3,1)\"\n",
    "A = a.split()[0]\n",
    "B = a.split()[2]\n",
    "A = A.split(',')\n",
    "A[0] = A[0].lstrip('(')\n",
    "A[-1] = A[-1].rstrip(')')\n",
    "for index,ele in enumerate(A):\n",
    "    A[index] = float(ele)\n",
    "# len(A)\n",
    "\n",
    "B = B.split(',')\n",
    "B[0] = B[0].lstrip('(')\n",
    "B[-1] = B[-1].rstrip(')')\n",
    "for index,ele in enumerate(B):\n",
    "    B[index] = float(ele)\n",
    "B"
   ]
  },
  {
   "cell_type": "markdown",
   "id": "2e7fbd90",
   "metadata": {},
   "source": [
    "## power operator check"
   ]
  },
  {
   "cell_type": "code",
   "execution_count": 13,
   "id": "1c043294",
   "metadata": {
    "scrolled": true
   },
   "outputs": [
    {
     "data": {
      "text/plain": [
       "16"
      ]
     },
     "execution_count": 13,
     "metadata": {},
     "output_type": "execute_result"
    }
   ],
   "source": [
    "result = 1\n",
    "for i in range(4):\n",
    "    result*=2\n",
    "result"
   ]
  },
  {
   "cell_type": "markdown",
   "id": "cce54d40",
   "metadata": {},
   "source": [
    "## div operator check"
   ]
  },
  {
   "cell_type": "code",
   "execution_count": 20,
   "id": "8d983139",
   "metadata": {},
   "outputs": [
    {
     "ename": "KeyboardInterrupt",
     "evalue": "",
     "output_type": "error",
     "traceback": [
      "\u001b[1;31m---------------------------------------------------------------------------\u001b[0m",
      "\u001b[1;31mKeyboardInterrupt\u001b[0m                         Traceback (most recent call last)",
      "\u001b[1;32m~\\AppData\\Local\\Temp/ipykernel_10892/108052456.py\u001b[0m in \u001b[0;36m<module>\u001b[1;34m\u001b[0m\n\u001b[0;32m      4\u001b[0m \u001b[1;32mwhile\u001b[0m \u001b[0mA\u001b[0m\u001b[1;33m>=\u001b[0m\u001b[0mB\u001b[0m\u001b[1;33m:\u001b[0m\u001b[1;33m\u001b[0m\u001b[1;33m\u001b[0m\u001b[0m\n\u001b[0;32m      5\u001b[0m     \u001b[0mresult\u001b[0m \u001b[1;33m+=\u001b[0m \u001b[1;36m1\u001b[0m\u001b[1;33m\u001b[0m\u001b[1;33m\u001b[0m\u001b[0m\n\u001b[1;32m----> 6\u001b[1;33m     \u001b[0mA\u001b[0m \u001b[1;33m-=\u001b[0m\u001b[0mB\u001b[0m\u001b[1;33m\u001b[0m\u001b[1;33m\u001b[0m\u001b[0m\n\u001b[0m\u001b[0;32m      7\u001b[0m \u001b[0mresult\u001b[0m\u001b[1;33m\u001b[0m\u001b[1;33m\u001b[0m\u001b[0m\n",
      "\u001b[1;31mKeyboardInterrupt\u001b[0m: "
     ]
    }
   ],
   "source": [
    "A = 16\n",
    "B = 0\n",
    "result = 0\n",
    "while A>=B:\n",
    "    result += 1\n",
    "    A -=B\n",
    "result"
   ]
  },
  {
   "cell_type": "markdown",
   "id": "bbf8bb24",
   "metadata": {},
   "source": [
    "## mod operator check"
   ]
  },
  {
   "cell_type": "code",
   "execution_count": 15,
   "id": "7861a45f",
   "metadata": {},
   "outputs": [
    {
     "data": {
      "text/plain": [
       "0"
      ]
     },
     "execution_count": 15,
     "metadata": {},
     "output_type": "execute_result"
    }
   ],
   "source": [
    "result = 16\n",
    "while result >= 4:\n",
    "    result -= 4\n",
    "result"
   ]
  },
  {
   "cell_type": "code",
   "execution_count": 6,
   "id": "ec18b6ed",
   "metadata": {},
   "outputs": [
    {
     "data": {
      "text/plain": [
       "16"
      ]
     },
     "execution_count": 6,
     "metadata": {},
     "output_type": "execute_result"
    }
   ],
   "source": [
    "a=2\n",
    "a**=4\n",
    "a"
   ]
  },
  {
   "cell_type": "code",
   "execution_count": 11,
   "id": "095f96d0",
   "metadata": {},
   "outputs": [
    {
     "ename": "NameError",
     "evalue": "name 'double' is not defined",
     "output_type": "error",
     "traceback": [
      "\u001b[1;31m---------------------------------------------------------------------------\u001b[0m",
      "\u001b[1;31mNameError\u001b[0m                                 Traceback (most recent call last)",
      "\u001b[1;32m~\\AppData\\Local\\Temp/ipykernel_11080/3720059546.py\u001b[0m in \u001b[0;36m<module>\u001b[1;34m\u001b[0m\n\u001b[1;32m----> 1\u001b[1;33m \u001b[0mdouble\u001b[0m\u001b[1;33m(\u001b[0m\u001b[1;34m'2'\u001b[0m\u001b[1;33m)\u001b[0m\u001b[1;33m\u001b[0m\u001b[1;33m\u001b[0m\u001b[0m\n\u001b[0m",
      "\u001b[1;31mNameError\u001b[0m: name 'double' is not defined"
     ]
    }
   ],
   "source": [
    "double('2')"
   ]
  },
  {
   "cell_type": "code",
   "execution_count": null,
   "id": "6aa59377",
   "metadata": {},
   "outputs": [],
   "source": []
  }
 ],
 "metadata": {
  "kernelspec": {
   "display_name": "Python 3 (ipykernel)",
   "language": "python",
   "name": "python3"
  },
  "language_info": {
   "codemirror_mode": {
    "name": "ipython",
    "version": 3
   },
   "file_extension": ".py",
   "mimetype": "text/x-python",
   "name": "python",
   "nbconvert_exporter": "python",
   "pygments_lexer": "ipython3",
   "version": "3.9.7"
  }
 },
 "nbformat": 4,
 "nbformat_minor": 5
}
