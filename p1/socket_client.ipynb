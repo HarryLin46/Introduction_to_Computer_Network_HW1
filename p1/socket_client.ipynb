{
 "cells": [
  {
   "cell_type": "code",
   "execution_count": null,
   "id": "a4a173a7",
   "metadata": {},
   "outputs": [],
   "source": [
    "import socket\n",
    "import time\n",
    "\n",
    "with open('./client_log.txt', 'w') as logFile:\n",
    "    logFile.write(\"The Client is running..\\n\")\n",
    "    logFile.flush()\n",
    "\n",
    "    # Configure the server IP with its corrosponding port number\n",
    "    # Specify the TCP connection type and make connection to the server\n",
    "    # TODO start\n",
    "    HOST, PORT =\n",
    "    # TODO end\n",
    "\n",
    "    Testcase = open('./p1_testcase', 'r')\n",
    "    TestcaseContents = Testcase.readlines()\n",
    "    Testcase.close()\n",
    "\n",
    "    # Write the information of HOST and PORT to the client_log.txt\n",
    "    # TODO start\n",
    "    # TODO end\n",
    "\n",
    "    # Read test cases from p1_testcase\n",
    "    # You can change the test case or create other test cases on your own\n",
    "    for PreprossingLine in TestcaseContents:\n",
    "        Line = PreprossingLine.strip()\n",
    "\n",
    "        # For connection stability\n",
    "        time.sleep(3)\n",
    "\n",
    "        # Client sent the request to the server and receive the response from the server\n",
    "        # TODO start\n",
    "        # TODO end\n",
    "\n",
    "\n",
    "    # Close the socket\n",
    "    # TODO start\n",
    "    # TODO end\n",
    "logFile.close()\n"
   ]
  }
 ],
 "metadata": {
  "kernelspec": {
   "display_name": "Python 3 (ipykernel)",
   "language": "python",
   "name": "python3"
  },
  "language_info": {
   "codemirror_mode": {
    "name": "ipython",
    "version": 3
   },
   "file_extension": ".py",
   "mimetype": "text/x-python",
   "name": "python",
   "nbconvert_exporter": "python",
   "pygments_lexer": "ipython3",
   "version": "3.9.7"
  }
 },
 "nbformat": 4,
 "nbformat_minor": 5
}
