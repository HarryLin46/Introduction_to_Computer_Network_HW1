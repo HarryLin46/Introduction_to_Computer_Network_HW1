{
 "cells": [
  {
   "cell_type": "code",
   "execution_count": null,
   "id": "8dd4e070",
   "metadata": {},
   "outputs": [
    {
     "name": "stdout",
     "output_type": "stream",
     "text": [
      "Ready to serve...\n",
      "accept success\n",
      "RecvMessage:\n",
      " GET /index.html HTTP/1.1\n",
      "\n",
      "FileName: /index.html\n",
      "eeeeeeeeeeerrorr\n",
      "errorrrrrrr\n",
      "DataInFile: ['<!DOCTYPE', 'html>', '<html>', '<head>', '<meta', 'http-equiv', '=', \"'Content-Type'\", 'content', '=', \"'text/html;\", \"charset=utf-8'>\", '<title>Index</title>', '<h1>B08901002', '林宸漢</h1>', '<p>', 'click', '<a', 'href=\"http://127.0.0.1:80/helloworld.html\">', 'here', '</a>', 'to', 'access', 'to', '\"helloworld.html\"', '</p>', '</head>', '</html>']\n",
      "sending data complete!\n",
      "Ready to serve...\n",
      "accept success\n",
      "RecvMessage:\n",
      " GET /index.html HTTP/1.1\n",
      "\n",
      "FileName: /index.html\n",
      "eeeeeeeeeeerrorr\n",
      "errorrrrrrr\n",
      "DataInFile: ['<!DOCTYPE', 'html>', '<html>', '<head>', '<meta', 'http-equiv', '=', \"'Content-Type'\", 'content', '=', \"'text/html;\", \"charset=utf-8'>\", '<title>Index</title>', '<h1>B08901002', '林宸漢</h1>', '<p>', 'click', '<a', 'href=\"http://127.0.0.1:80/helloworld.html\">', 'here', '</a>', 'to', 'access', 'to', '\"helloworld.html\"', '</p>', '</head>', '</html>']\n",
      "sending data complete!\n",
      "Ready to serve...\n",
      "accept success\n",
      "RecvMessage:\n",
      " GET /helloworld.html HTTP/1.1\n",
      "\n",
      "FileName: /helloworld.html\n",
      "eeeeeeeeeeerrorr\n",
      "errorrrrrrr\n",
      "DataInFile: ['<!DOCTYPE', 'html>', '<html>', '<head>', '<title>Hello', 'World!</title>', '<h1>Hello', 'World!</h1>', '</head>', '</html>']\n",
      "sending data complete!\n",
      "Ready to serve...\n",
      "accept success\n",
      "RecvMessage:\n",
      " GET /abc.html HTTP/1.1\n",
      "\n",
      "FileName: /abc.html\n",
      "eeeeeeeeeeerrorr\n",
      "Ready to serve...\n",
      "accept success\n",
      "RecvMessage:\n",
      " GET /abc.html HTTP/1.1\n",
      "\n",
      "FileName: /abc.html\n",
      "eeeeeeeeeeerrorr\n",
      "Ready to serve...\n"
     ]
    }
   ],
   "source": [
    "from socket import *\n",
    "import time\n",
    "import deflate\n",
    "\n",
    "# Note: After finishing the program, try to type http://HOST:PORT/index.html in your browser for test\n",
    "\n",
    "ServerSocket = socket(AF_INET, SOCK_STREAM)\n",
    "# Create a socket and bind the socket to the address\n",
    "# TODO start\n",
    "# HOST, PORT = \"192.168.0.105\", 80\n",
    "HOST, PORT = \"127.0.0.1\", 80\n",
    "ServerSocket.bind((HOST, PORT))\n",
    "# TODO end\n",
    "\n",
    "while True:\n",
    "    print('Ready to serve...')\n",
    "    ServerSocket.listen(1)\n",
    "    # Establish the connection\n",
    "    # TODO start\n",
    "    ConnectionSocket, Addr = ServerSocket.accept()\n",
    "    print(\"accept success\")\n",
    "    # TODO end\n",
    "\n",
    "    try:\n",
    "        # Receive a HTTP request from the client\n",
    "        # TODO start\n",
    "        RecvMessage = ConnectionSocket.recv(1024).decode()\n",
    "        print(\"RecvMessage:\\n\",RecvMessage)\n",
    "#         print('\\n','type of RecvMessage:\\n',type(RecvMessage))\n",
    "        # TODO end\n",
    "\n",
    "        if RecvMessage == \"\":\n",
    "            RecvMessage = \"/ /\"\n",
    "\n",
    "        FileName = RecvMessage.split()[1]\n",
    "        print(\"FileName:\",FileName)\n",
    "        print('eeeeeeeeeeerrorr')\n",
    "        f = open(FileName[1:],encoding=\"utf-8\",errors='strict')\n",
    "        print('errorrrrrrr')\n",
    "        \n",
    "#         print('f:\\n',f)\n",
    "        # Read data from the file that the client requested\n",
    "        # Split the data into lines for further transmission\n",
    "        # TODO start\n",
    "        DataInFile = f.read()\n",
    "        DataInFile = DataInFile.split()\n",
    "        print(\"DataInFile:\",DataInFile)\n",
    "        # TODO end\n",
    "\n",
    "        # Send one HTTP header line into socket\n",
    "        # Send HTTP Status to the client\n",
    "        # TODO start\n",
    "#         compressed_message = deflate.gzip_compress(b'HTTP/1.1 200 OK\\r\\n')\n",
    "#         ConnectionSocket.send(compressed_message)\n",
    "        ConnectionSocket.send((\"HTTP/1.1 200 OK\\r\\n\").encode('utf-8'))\n",
    "        time.sleep(0.5)\n",
    "#         RecvMessage = ConnectionSocket.recv(1024).decode()\n",
    "#         print(\"RecvMessage2:\\n\",RecvMessage)\n",
    "        # TODO end\n",
    "\n",
    "        # Send the Content Type to the client\n",
    "        # TODO start\n",
    "#         compressed_message = deflate.gzip_compress(b'Content-Type: text/html; charset=ISO-8859-1\\r\\n')\n",
    "#         ConnectionSocket.send(compressed_message)\n",
    "        ConnectionSocket.send((\"Content-Type:text/html\\r\\n\\r\\n\").encode('utf-8'))\n",
    "#         RecvMessage = ConnectionSocket.recv(1024).decode()\n",
    "#         print(\"RecvMessage3:\\n\",RecvMessage)\n",
    "        # TODO end\n",
    "\n",
    "        # Send the content of the requested file to the client\n",
    "        for i in range(0, len(DataInFile)):\n",
    "#             compressed_data = deflate.gzip_compress(bytes(DataInFile[i],'utf-8'))\n",
    "#             ConnectionSocket.send(compressed_data)\n",
    "            ConnectionSocket.send(DataInFile[i].encode('utf-8'))\n",
    "            ConnectionSocket.send((' ').encode())\n",
    "        print('sending data complete!')\n",
    "#         compressed_message = deflate.gzip_compress(b'\\r\\n')\n",
    "        ConnectionSocket.send(('\\r\\n').encode('utf-8'))\n",
    "\n",
    "        ConnectionSocket.close()\n",
    "    except IOError:\n",
    "        # Send the response message if the file is not found\n",
    "        # TODO start\n",
    "        ConnectionSocket.send((\"404 not found\").encode('utf-8'))\n",
    "        # TODO end\n",
    "\n",
    "        # Close client socket\n",
    "        # TODO start\n",
    "        ConnectionSocket.close()\n",
    "        # TODO end\n",
    "\n"
   ]
  },
  {
   "cell_type": "code",
   "execution_count": null,
   "id": "4f4256b9",
   "metadata": {},
   "outputs": [],
   "source": [
    "help(encode())"
   ]
  },
  {
   "cell_type": "code",
   "execution_count": null,
   "id": "7ebfab95",
   "metadata": {},
   "outputs": [],
   "source": [
    "a = '123'\n",
    "type(a)"
   ]
  },
  {
   "cell_type": "code",
   "execution_count": null,
   "id": "0b8201f2",
   "metadata": {},
   "outputs": [],
   "source": [
    "a = b'123'\n",
    "type(a)"
   ]
  },
  {
   "cell_type": "code",
   "execution_count": null,
   "id": "b228ca69",
   "metadata": {},
   "outputs": [],
   "source": [
    "bytes(a)"
   ]
  },
  {
   "cell_type": "code",
   "execution_count": null,
   "id": "47d39b66",
   "metadata": {},
   "outputs": [],
   "source": [
    "c = 'abc'\n",
    "b = bytes(c,'utf-8')\n",
    "a = deflate.gzip_compress(b,6)"
   ]
  },
  {
   "cell_type": "code",
   "execution_count": null,
   "id": "1c2f22c3",
   "metadata": {},
   "outputs": [],
   "source": [
    "bytes('abc','utf-8')"
   ]
  },
  {
   "cell_type": "code",
   "execution_count": null,
   "id": "52fe2d05",
   "metadata": {},
   "outputs": [],
   "source": [
    "'abc'.encode"
   ]
  },
  {
   "cell_type": "code",
   "execution_count": null,
   "id": "e0265211",
   "metadata": {},
   "outputs": [],
   "source": [
    "'林宸漢'.encode()"
   ]
  },
  {
   "cell_type": "code",
   "execution_count": null,
   "id": "d49b96d0",
   "metadata": {},
   "outputs": [],
   "source": []
  }
 ],
 "metadata": {
  "kernelspec": {
   "display_name": "Python 3 (ipykernel)",
   "language": "python",
   "name": "python3"
  },
  "language_info": {
   "codemirror_mode": {
    "name": "ipython",
    "version": 3
   },
   "file_extension": ".py",
   "mimetype": "text/x-python",
   "name": "python",
   "nbconvert_exporter": "python",
   "pygments_lexer": "ipython3",
   "version": "3.9.7"
  }
 },
 "nbformat": 4,
 "nbformat_minor": 5
}
